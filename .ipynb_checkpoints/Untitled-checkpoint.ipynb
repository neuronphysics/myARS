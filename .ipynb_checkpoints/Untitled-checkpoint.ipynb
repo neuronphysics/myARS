{
 "cells": [
  {
   "cell_type": "code",
   "execution_count": 12,
   "metadata": {},
   "outputs": [
    {
     "name": "stdout",
     "output_type": "stream",
     "text": [
      "The cython extension is already loaded. To reload it, use:\n",
      "  %reload_ext cython\n"
     ]
    }
   ],
   "source": [
    "%load_ext cython"
   ]
  },
  {
   "cell_type": "code",
   "execution_count": 4,
   "metadata": {},
   "outputs": [],
   "source": [
    "%%cython\n",
    "\n",
    "from cpython cimport array\n",
    "import cython\n",
    "import numpy as np\n",
    "import ctypes\n",
    "cimport numpy as np\n",
    "from cython.parallel import prange\n",
    "from cython import boundscheck, wraparound\n",
    "@boundscheck(False)\n",
    "@wraparound(False)\n",
    "cpdef void normal(np.ndarray[ndim=1, dtype=np.float64_t] u, \n",
    "                  np.ndarray[ndim=1, dtype=np.float64_t] yu, \n",
    "                  np.ndarray[ndim=1, dtype=np.float64_t] ypu):\n",
    "      #evaluate log  of normal distribution and its derivative\n",
    "      cdef int i\n",
    "      cdef int n=cython.sizeof(u)\n",
    "      for i in prange(n, nogil=True):\n",
    "          yu[i]=-u[i]*u[i]*0.5              \n",
    "          ypu[i]=-u[i]             \n",
    "      print yu[0],yu[1],yu[2],ypu[0],ypu[1],ypu[2]\n",
    "      return                                                     \n"
   ]
  },
  {
   "cell_type": "code",
   "execution_count": 5,
   "metadata": {},
   "outputs": [
    {
     "name": "stdout",
     "output_type": "stream",
     "text": [
      "[ 0.  0.  0.  0.  0.  0.] [ 0.  1.  1.  0.  1. -1.]\n"
     ]
    }
   ],
   "source": [
    "import numpy as np\n",
    "x=np.array([0.,1.,1.,0.,1.,-1.])\n",
    "hx=np.zeros(len(x),float)\n",
    "hpx=np.zeros(len(x),float)\n",
    "print hx,x"
   ]
  },
  {
   "cell_type": "code",
   "execution_count": 6,
   "metadata": {},
   "outputs": [
    {
     "name": "stdout",
     "output_type": "stream",
     "text": [
      "-0.0 -0.5 -0.5 -0.0 -1.0 -1.0\n"
     ]
    }
   ],
   "source": [
    "normal(x,hx,hpx)"
   ]
  },
  {
   "cell_type": "code",
   "execution_count": 39,
   "metadata": {
    "scrolled": true
   },
   "outputs": [
    {
     "name": "stderr",
     "output_type": "stream",
     "text": [
      "\n",
      "Error compiling Cython file:\n",
      "------------------------------------------------------------\n",
      "...\n",
      "     for i in prange(n, nogil=True):\n",
      "         yu[i] =-u[i]*u[i]*0.5                                                              \n",
      "         ypu[i]=-u[i]                                                                   \n",
      "     return \n",
      "\n",
      "def wrapper(func_t f):\n",
      "           ^\n",
      "------------------------------------------------------------\n",
      "\n",
      "/home/zahra/.cache/ipython/cython/_cython_magic_b3b0845798af110022af91b1f0eb1b96.pyx:19:12: Cannot convert Python object argument to type 'func_t'\n"
     ]
    }
   ],
   "source": [
    " %%cython\n",
    "import cython\n",
    "from cython.parallel import prange\n",
    "ctypedef void (*func_t)(int, double *, double *, double *)\n",
    "cdef class _SampleFunc:\n",
    "     cdef void (*func)(int, double *, double *, double *)\n",
    "       \n",
    "cdef void normal(\n",
    "                 int n,\n",
    "                 double* u,\n",
    "                 double* yu,\n",
    "                 double* ypu\n",
    "                ):         \n",
    "      cdef int i         \n",
    "      for i in prange(n, nogil=True):\n",
    "          yu[i] =-u[i]*u[i]*0.5                                                              \n",
    "          ypu[i]=-u[i]                                                                   \n",
    "      return \n",
    " \n",
    "def wrapper(func_t f):\n",
    "   S = _SampleFunc()\n",
    "   S.func = f\n",
    "   return S\n"
   ]
  },
  {
   "cell_type": "code",
   "execution_count": null,
   "metadata": {
    "collapsed": true
   },
   "outputs": [],
   "source": [
    "cimport *\n",
    "                          ^\n",
    "SyntaxError: invalid synta"
   ]
  }
 ],
 "metadata": {
  "kernelspec": {
   "display_name": "Python 2",
   "language": "python",
   "name": "python2"
  }
 },
 "nbformat": 4,
 "nbformat_minor": 2
}
